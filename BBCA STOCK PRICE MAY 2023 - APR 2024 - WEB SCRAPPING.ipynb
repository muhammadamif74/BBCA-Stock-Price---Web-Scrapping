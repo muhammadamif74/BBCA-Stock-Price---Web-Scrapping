{
 "cells": [
  {
   "cell_type": "code",
   "execution_count": 12,
   "id": "9adf873c",
   "metadata": {},
   "outputs": [],
   "source": [
    "import requests\n",
    "import pandas as pd\n",
    "from bs4 import BeautifulSoup\n",
    "import csv"
   ]
  },
  {
   "cell_type": "code",
   "execution_count": 13,
   "id": "b362a7ef",
   "metadata": {},
   "outputs": [
    {
     "name": "stdout",
     "output_type": "stream",
     "text": [
      "200\n"
     ]
    }
   ],
   "source": [
    "headers = {\n",
    "    'User-Agent': 'Mozilla/5.0 (Windows NT 10.0; Win64; x64) AppleWebKit/537.36 (KHTML, like Gecko) Chrome/91.0.4472.124 Safari/537.36'\n",
    "}\n",
    "\n",
    "url = \"https://finance.yahoo.com/quote/BBCA.JK/history/?frequency=1mo\"\n",
    "r = requests.get(url, headers=headers)\n",
    "print(r.status_code)\n"
   ]
  },
  {
   "cell_type": "code",
   "execution_count": 14,
   "id": "c0057d5e",
   "metadata": {},
   "outputs": [],
   "source": [
    "soup = BeautifulSoup(r.text, \"lxml\")\n"
   ]
  },
  {
   "cell_type": "code",
   "execution_count": 15,
   "id": "d2563d75",
   "metadata": {},
   "outputs": [],
   "source": [
    "table = soup.find(\"table\", class_ = \"table svelte-ta1t6m\")\n",
    "table"
   ]
  },
  {
   "cell_type": "code",
   "execution_count": 20,
   "id": "d4bb58e7",
   "metadata": {},
   "outputs": [
    {
     "name": "stdout",
     "output_type": "stream",
     "text": [
      "[<th class=\"svelte-ewueuo\">Date  </th>, <th class=\"svelte-ewueuo\">Open  </th>, <th class=\"svelte-ewueuo\">High  </th>, <th class=\"svelte-ewueuo\">Low  </th>, <th class=\"svelte-ewueuo\">Close   <span class=\"container svelte-7dju6j\"><div class=\"icon fin-icon primary-icn sz-medium tw-align-text-top svelte-21xhfv\"><!-- HTML_TAG_START --><svg viewbox=\"0 0 24 24\" xmlns=\"http://www.w3.org/2000/svg\"><path d=\"M11 7h2v2h-2zm0 4h2v6h-2zm1-9C6.48 2 2 6.48 2 12s4.48 10 10 10 10-4.48 10-10S17.52 2 12 2m0 18c-4.41 0-8-3.59-8-8s3.59-8 8-8 8 3.59 8 8-3.59 8-8 8\"></path></svg><!-- HTML_TAG_END --></div> </span> <div class=\"tooltip al-bottom svelte-7dju6j\" role=\"tooltip\"><div class=\"arrow svelte-7dju6j\"></div> <h3 class=\"title svelte-7dju6j\"></h3> <span class=\"toolTipContent svelte-ewueuo\" slot=\"content\">Close price adjusted for splits. </span> </div> </th>, <th class=\"svelte-ewueuo\">Adj Close   <span class=\"container svelte-7dju6j\"><div class=\"icon fin-icon primary-icn sz-medium tw-align-text-top svelte-21xhfv\"><!-- HTML_TAG_START --><svg viewbox=\"0 0 24 24\" xmlns=\"http://www.w3.org/2000/svg\"><path d=\"M11 7h2v2h-2zm0 4h2v6h-2zm1-9C6.48 2 2 6.48 2 12s4.48 10 10 10 10-4.48 10-10S17.52 2 12 2m0 18c-4.41 0-8-3.59-8-8s3.59-8 8-8 8 3.59 8 8-3.59 8-8 8\"></path></svg><!-- HTML_TAG_END --></div> </span> <div class=\"tooltip al-bottom svelte-7dju6j\" role=\"tooltip\"><div class=\"arrow svelte-7dju6j\"></div> <h3 class=\"title svelte-7dju6j\"></h3> <span class=\"toolTipContent svelte-ewueuo\" slot=\"content\">Adjusted close price adjusted for splits and dividend and/or capital gain distributions. </span> </div> </th>, <th class=\"svelte-ewueuo\">Volume  </th>]\n"
     ]
    }
   ],
   "source": [
    "# Cek apakah elemen table ada\n",
    "table = soup.find('table')\n",
    "if table:\n",
    "    headers = table.find_all(\"th\")\n",
    "    print(headers)\n",
    "else:\n",
    "    print(\"Table element not found\")"
   ]
  },
  {
   "cell_type": "code",
   "execution_count": 21,
   "id": "fab9a8ce",
   "metadata": {},
   "outputs": [
    {
     "name": "stdout",
     "output_type": "stream",
     "text": [
      "['Date  ', 'Open  ', 'High  ', 'Low  ', 'Close       Close price adjusted for splits.   ', 'Adj Close       Adjusted close price adjusted for splits and dividend and/or capital gain distributions.   ', 'Volume  ']\n"
     ]
    }
   ],
   "source": [
    "titles = []\n",
    "for i in headers : \n",
    "    title = i.text\n",
    "    titles.append(title)\n",
    "\n",
    "print(titles)"
   ]
  },
  {
   "cell_type": "code",
   "execution_count": 22,
   "id": "1a38b051",
   "metadata": {},
   "outputs": [
    {
     "name": "stdout",
     "output_type": "stream",
     "text": [
      "Empty DataFrame\n",
      "Columns: [Date  , Open  , High  , Low  , Close       Close price adjusted for splits.   , Adj Close       Adjusted close price adjusted for splits and dividend and/or capital gain distributions.   , Volume  ]\n",
      "Index: []\n"
     ]
    }
   ],
   "source": [
    "df = pd.DataFrame(columns= titles)\n",
    "print(df)"
   ]
  },
  {
   "cell_type": "code",
   "execution_count": 23,
   "id": "dbbfe009",
   "metadata": {},
   "outputs": [
    {
     "name": "stdout",
     "output_type": "stream",
     "text": [
      "['Date', 'Open', 'High', 'Low', 'Close', 'Adj Close       Adjusted close price adjusted for splits and dividend and/or capital gain distributions.', 'Volume']\n"
     ]
    }
   ],
   "source": [
    "cleaned_columns1 = [col.strip().replace(\"Close       Close price adjusted for splits.\", \"Close\") for col in df]\n",
    "print(cleaned_columns1)\n"
   ]
  },
  {
   "cell_type": "code",
   "execution_count": 24,
   "id": "283411d7",
   "metadata": {},
   "outputs": [
    {
     "name": "stdout",
     "output_type": "stream",
     "text": [
      "['Date', 'Open', 'High', 'Low', 'Close', 'Adj Close', 'Volume']\n"
     ]
    }
   ],
   "source": [
    "cleaned_columns2 = [col.strip().replace(\"Adj Close       Adjusted close price adjusted for splits and dividend and/or capital gain distributions.\", \"Adj Close\") for col in cleaned_columns1]\n",
    "print(cleaned_columns2)\n"
   ]
  },
  {
   "cell_type": "code",
   "execution_count": 25,
   "id": "c7cd8e41",
   "metadata": {},
   "outputs": [
    {
     "name": "stdout",
     "output_type": "stream",
     "text": [
      "[<tr class=\"svelte-ewueuo\"><th class=\"svelte-ewueuo\">Date  </th><th class=\"svelte-ewueuo\">Open  </th><th class=\"svelte-ewueuo\">High  </th><th class=\"svelte-ewueuo\">Low  </th><th class=\"svelte-ewueuo\">Close   <span class=\"container svelte-7dju6j\"><div class=\"icon fin-icon primary-icn sz-medium tw-align-text-top svelte-21xhfv\"><!-- HTML_TAG_START --><svg viewbox=\"0 0 24 24\" xmlns=\"http://www.w3.org/2000/svg\"><path d=\"M11 7h2v2h-2zm0 4h2v6h-2zm1-9C6.48 2 2 6.48 2 12s4.48 10 10 10 10-4.48 10-10S17.52 2 12 2m0 18c-4.41 0-8-3.59-8-8s3.59-8 8-8 8 3.59 8 8-3.59 8-8 8\"></path></svg><!-- HTML_TAG_END --></div> </span> <div class=\"tooltip al-bottom svelte-7dju6j\" role=\"tooltip\"><div class=\"arrow svelte-7dju6j\"></div> <h3 class=\"title svelte-7dju6j\"></h3> <span class=\"toolTipContent svelte-ewueuo\" slot=\"content\">Close price adjusted for splits. </span> </div> </th><th class=\"svelte-ewueuo\">Adj Close   <span class=\"container svelte-7dju6j\"><div class=\"icon fin-icon primary-icn sz-medium tw-align-text-top svelte-21xhfv\"><!-- HTML_TAG_START --><svg viewbox=\"0 0 24 24\" xmlns=\"http://www.w3.org/2000/svg\"><path d=\"M11 7h2v2h-2zm0 4h2v6h-2zm1-9C6.48 2 2 6.48 2 12s4.48 10 10 10 10-4.48 10-10S17.52 2 12 2m0 18c-4.41 0-8-3.59-8-8s3.59-8 8-8 8 3.59 8 8-3.59 8-8 8\"></path></svg><!-- HTML_TAG_END --></div> </span> <div class=\"tooltip al-bottom svelte-7dju6j\" role=\"tooltip\"><div class=\"arrow svelte-7dju6j\"></div> <h3 class=\"title svelte-7dju6j\"></h3> <span class=\"toolTipContent svelte-ewueuo\" slot=\"content\">Adjusted close price adjusted for splits and dividend and/or capital gain distributions. </span> </div> </th><th class=\"svelte-ewueuo\">Volume  </th></tr>, <tr class=\"svelte-ewueuo\"><td class=\"svelte-ewueuo\">May 22, 2024</td> <td class=\"svelte-ewueuo\">9,475.00</td> <td class=\"svelte-ewueuo\">9,575.00</td> <td class=\"svelte-ewueuo\">9,325.00</td> <td class=\"svelte-ewueuo\">9,425.00</td> <td class=\"svelte-ewueuo\">9,425.00</td> <td class=\"svelte-ewueuo\">121,712,700</td> </tr>, <tr class=\"svelte-ewueuo\"><td class=\"svelte-ewueuo\">May 1, 2024</td> <td class=\"svelte-ewueuo\">9,900.00</td> <td class=\"svelte-ewueuo\">9,900.00</td> <td class=\"svelte-ewueuo\">9,200.00</td> <td class=\"svelte-ewueuo\">9,425.00</td> <td class=\"svelte-ewueuo\">9,425.00</td> <td class=\"svelte-ewueuo\">1,152,375,700</td> </tr>, <tr class=\"svelte-ewueuo\"><td class=\"svelte-ewueuo\">Apr 1, 2024</td> <td class=\"svelte-ewueuo\">10,075.00</td> <td class=\"svelte-ewueuo\">10,100.00</td> <td class=\"svelte-ewueuo\">9,250.00</td> <td class=\"svelte-ewueuo\">9,800.00</td> <td class=\"svelte-ewueuo\">9,800.00</td> <td class=\"svelte-ewueuo\">1,979,724,400</td> </tr>, <tr class=\"svelte-ewueuo\"><td class=\"svelte-ewueuo\">Mar 25, 2024</td> <td class=\"event svelte-ewueuo\" colspan=\"6\"><span class=\"svelte-ewueuo\">227.50</span> Dividend </td> </tr>, <tr class=\"svelte-ewueuo\"><td class=\"svelte-ewueuo\">Mar 1, 2024</td> <td class=\"svelte-ewueuo\">9,900.00</td> <td class=\"svelte-ewueuo\">10,400.00</td> <td class=\"svelte-ewueuo\">9,750.00</td> <td class=\"svelte-ewueuo\">10,075.00</td> <td class=\"svelte-ewueuo\">9,848.06</td> <td class=\"svelte-ewueuo\">1,470,759,300</td> </tr>, <tr class=\"svelte-ewueuo\"><td class=\"svelte-ewueuo\">Feb 1, 2024</td> <td class=\"svelte-ewueuo\">9,650.00</td> <td class=\"svelte-ewueuo\">10,025.00</td> <td class=\"svelte-ewueuo\">9,525.00</td> <td class=\"svelte-ewueuo\">9,875.00</td> <td class=\"svelte-ewueuo\">9,652.57</td> <td class=\"svelte-ewueuo\">1,483,790,400</td> </tr>, <tr class=\"svelte-ewueuo\"><td class=\"svelte-ewueuo\">Jan 1, 2024</td> <td class=\"svelte-ewueuo\">9,400.00</td> <td class=\"svelte-ewueuo\">9,775.00</td> <td class=\"svelte-ewueuo\">9,300.00</td> <td class=\"svelte-ewueuo\">9,550.00</td> <td class=\"svelte-ewueuo\">9,334.89</td> <td class=\"svelte-ewueuo\">1,474,778,300</td> </tr>, <tr class=\"svelte-ewueuo\"><td class=\"svelte-ewueuo\">Dec 4, 2023</td> <td class=\"event svelte-ewueuo\" colspan=\"6\"><span class=\"svelte-ewueuo\">42.50</span> Dividend </td> </tr>, <tr class=\"svelte-ewueuo\"><td class=\"svelte-ewueuo\">Dec 1, 2023</td> <td class=\"svelte-ewueuo\">8,925.00</td> <td class=\"svelte-ewueuo\">9,450.00</td> <td class=\"svelte-ewueuo\">8,675.00</td> <td class=\"svelte-ewueuo\">9,400.00</td> <td class=\"svelte-ewueuo\">9,144.64</td> <td class=\"svelte-ewueuo\">1,671,827,300</td> </tr>, <tr class=\"svelte-ewueuo\"><td class=\"svelte-ewueuo\">Nov 1, 2023</td> <td class=\"svelte-ewueuo\">8,750.00</td> <td class=\"svelte-ewueuo\">9,075.00</td> <td class=\"svelte-ewueuo\">8,600.00</td> <td class=\"svelte-ewueuo\">8,975.00</td> <td class=\"svelte-ewueuo\">8,731.18</td> <td class=\"svelte-ewueuo\">1,367,708,700</td> </tr>, <tr class=\"svelte-ewueuo\"><td class=\"svelte-ewueuo\">Oct 1, 2023</td> <td class=\"svelte-ewueuo\">8,900.00</td> <td class=\"svelte-ewueuo\">9,250.00</td> <td class=\"svelte-ewueuo\">8,700.00</td> <td class=\"svelte-ewueuo\">8,750.00</td> <td class=\"svelte-ewueuo\">8,512.29</td> <td class=\"svelte-ewueuo\">1,473,758,400</td> </tr>, <tr class=\"svelte-ewueuo\"><td class=\"svelte-ewueuo\">Sep 1, 2023</td> <td class=\"svelte-ewueuo\">9,200.00</td> <td class=\"svelte-ewueuo\">9,275.00</td> <td class=\"svelte-ewueuo\">8,825.00</td> <td class=\"svelte-ewueuo\">8,825.00</td> <td class=\"svelte-ewueuo\">8,585.26</td> <td class=\"svelte-ewueuo\">1,277,052,400</td> </tr>, <tr class=\"svelte-ewueuo\"><td class=\"svelte-ewueuo\">Aug 1, 2023</td> <td class=\"svelte-ewueuo\">9,175.00</td> <td class=\"svelte-ewueuo\">9,450.00</td> <td class=\"svelte-ewueuo\">9,100.00</td> <td class=\"svelte-ewueuo\">9,175.00</td> <td class=\"svelte-ewueuo\">8,925.75</td> <td class=\"svelte-ewueuo\">1,406,160,600</td> </tr>, <tr class=\"svelte-ewueuo\"><td class=\"svelte-ewueuo\">Jul 1, 2023</td> <td class=\"svelte-ewueuo\">9,025.00</td> <td class=\"svelte-ewueuo\">9,400.00</td> <td class=\"svelte-ewueuo\">9,025.00</td> <td class=\"svelte-ewueuo\">9,125.00</td> <td class=\"svelte-ewueuo\">8,877.11</td> <td class=\"svelte-ewueuo\">1,307,303,300</td> </tr>, <tr class=\"svelte-ewueuo\"><td class=\"svelte-ewueuo\">Jun 1, 2023</td> <td class=\"svelte-ewueuo\">9,050.00</td> <td class=\"svelte-ewueuo\">9,325.00</td> <td class=\"svelte-ewueuo\">8,950.00</td> <td class=\"svelte-ewueuo\">9,150.00</td> <td class=\"svelte-ewueuo\">8,901.43</td> <td class=\"svelte-ewueuo\">1,050,138,400</td> </tr>]\n"
     ]
    }
   ],
   "source": [
    "rows = table.find_all(\"tr\")\n",
    "print(rows)"
   ]
  },
  {
   "cell_type": "code",
   "execution_count": 26,
   "id": "cb068581",
   "metadata": {},
   "outputs": [
    {
     "name": "stdout",
     "output_type": "stream",
     "text": [
      "<tr class=\"svelte-ewueuo\"><td class=\"svelte-ewueuo\">May 22, 2024</td> <td class=\"svelte-ewueuo\">9,475.00</td> <td class=\"svelte-ewueuo\">9,575.00</td> <td class=\"svelte-ewueuo\">9,325.00</td> <td class=\"svelte-ewueuo\">9,425.00</td> <td class=\"svelte-ewueuo\">9,425.00</td> <td class=\"svelte-ewueuo\">121,712,700</td> </tr>\n",
      "<tr class=\"svelte-ewueuo\"><td class=\"svelte-ewueuo\">May 1, 2024</td> <td class=\"svelte-ewueuo\">9,900.00</td> <td class=\"svelte-ewueuo\">9,900.00</td> <td class=\"svelte-ewueuo\">9,200.00</td> <td class=\"svelte-ewueuo\">9,425.00</td> <td class=\"svelte-ewueuo\">9,425.00</td> <td class=\"svelte-ewueuo\">1,152,375,700</td> </tr>\n",
      "<tr class=\"svelte-ewueuo\"><td class=\"svelte-ewueuo\">Apr 1, 2024</td> <td class=\"svelte-ewueuo\">10,075.00</td> <td class=\"svelte-ewueuo\">10,100.00</td> <td class=\"svelte-ewueuo\">9,250.00</td> <td class=\"svelte-ewueuo\">9,800.00</td> <td class=\"svelte-ewueuo\">9,800.00</td> <td class=\"svelte-ewueuo\">1,979,724,400</td> </tr>\n",
      "<tr class=\"svelte-ewueuo\"><td class=\"svelte-ewueuo\">Mar 25, 2024</td> <td class=\"event svelte-ewueuo\" colspan=\"6\"><span class=\"svelte-ewueuo\">227.50</span> Dividend </td> </tr>\n",
      "<tr class=\"svelte-ewueuo\"><td class=\"svelte-ewueuo\">Mar 1, 2024</td> <td class=\"svelte-ewueuo\">9,900.00</td> <td class=\"svelte-ewueuo\">10,400.00</td> <td class=\"svelte-ewueuo\">9,750.00</td> <td class=\"svelte-ewueuo\">10,075.00</td> <td class=\"svelte-ewueuo\">9,848.06</td> <td class=\"svelte-ewueuo\">1,470,759,300</td> </tr>\n",
      "<tr class=\"svelte-ewueuo\"><td class=\"svelte-ewueuo\">Feb 1, 2024</td> <td class=\"svelte-ewueuo\">9,650.00</td> <td class=\"svelte-ewueuo\">10,025.00</td> <td class=\"svelte-ewueuo\">9,525.00</td> <td class=\"svelte-ewueuo\">9,875.00</td> <td class=\"svelte-ewueuo\">9,652.57</td> <td class=\"svelte-ewueuo\">1,483,790,400</td> </tr>\n",
      "<tr class=\"svelte-ewueuo\"><td class=\"svelte-ewueuo\">Jan 1, 2024</td> <td class=\"svelte-ewueuo\">9,400.00</td> <td class=\"svelte-ewueuo\">9,775.00</td> <td class=\"svelte-ewueuo\">9,300.00</td> <td class=\"svelte-ewueuo\">9,550.00</td> <td class=\"svelte-ewueuo\">9,334.89</td> <td class=\"svelte-ewueuo\">1,474,778,300</td> </tr>\n",
      "<tr class=\"svelte-ewueuo\"><td class=\"svelte-ewueuo\">Dec 4, 2023</td> <td class=\"event svelte-ewueuo\" colspan=\"6\"><span class=\"svelte-ewueuo\">42.50</span> Dividend </td> </tr>\n",
      "<tr class=\"svelte-ewueuo\"><td class=\"svelte-ewueuo\">Dec 1, 2023</td> <td class=\"svelte-ewueuo\">8,925.00</td> <td class=\"svelte-ewueuo\">9,450.00</td> <td class=\"svelte-ewueuo\">8,675.00</td> <td class=\"svelte-ewueuo\">9,400.00</td> <td class=\"svelte-ewueuo\">9,144.64</td> <td class=\"svelte-ewueuo\">1,671,827,300</td> </tr>\n",
      "<tr class=\"svelte-ewueuo\"><td class=\"svelte-ewueuo\">Nov 1, 2023</td> <td class=\"svelte-ewueuo\">8,750.00</td> <td class=\"svelte-ewueuo\">9,075.00</td> <td class=\"svelte-ewueuo\">8,600.00</td> <td class=\"svelte-ewueuo\">8,975.00</td> <td class=\"svelte-ewueuo\">8,731.18</td> <td class=\"svelte-ewueuo\">1,367,708,700</td> </tr>\n",
      "<tr class=\"svelte-ewueuo\"><td class=\"svelte-ewueuo\">Oct 1, 2023</td> <td class=\"svelte-ewueuo\">8,900.00</td> <td class=\"svelte-ewueuo\">9,250.00</td> <td class=\"svelte-ewueuo\">8,700.00</td> <td class=\"svelte-ewueuo\">8,750.00</td> <td class=\"svelte-ewueuo\">8,512.29</td> <td class=\"svelte-ewueuo\">1,473,758,400</td> </tr>\n",
      "<tr class=\"svelte-ewueuo\"><td class=\"svelte-ewueuo\">Sep 1, 2023</td> <td class=\"svelte-ewueuo\">9,200.00</td> <td class=\"svelte-ewueuo\">9,275.00</td> <td class=\"svelte-ewueuo\">8,825.00</td> <td class=\"svelte-ewueuo\">8,825.00</td> <td class=\"svelte-ewueuo\">8,585.26</td> <td class=\"svelte-ewueuo\">1,277,052,400</td> </tr>\n",
      "<tr class=\"svelte-ewueuo\"><td class=\"svelte-ewueuo\">Aug 1, 2023</td> <td class=\"svelte-ewueuo\">9,175.00</td> <td class=\"svelte-ewueuo\">9,450.00</td> <td class=\"svelte-ewueuo\">9,100.00</td> <td class=\"svelte-ewueuo\">9,175.00</td> <td class=\"svelte-ewueuo\">8,925.75</td> <td class=\"svelte-ewueuo\">1,406,160,600</td> </tr>\n",
      "<tr class=\"svelte-ewueuo\"><td class=\"svelte-ewueuo\">Jul 1, 2023</td> <td class=\"svelte-ewueuo\">9,025.00</td> <td class=\"svelte-ewueuo\">9,400.00</td> <td class=\"svelte-ewueuo\">9,025.00</td> <td class=\"svelte-ewueuo\">9,125.00</td> <td class=\"svelte-ewueuo\">8,877.11</td> <td class=\"svelte-ewueuo\">1,307,303,300</td> </tr>\n",
      "<tr class=\"svelte-ewueuo\"><td class=\"svelte-ewueuo\">Jun 1, 2023</td> <td class=\"svelte-ewueuo\">9,050.00</td> <td class=\"svelte-ewueuo\">9,325.00</td> <td class=\"svelte-ewueuo\">8,950.00</td> <td class=\"svelte-ewueuo\">9,150.00</td> <td class=\"svelte-ewueuo\">8,901.43</td> <td class=\"svelte-ewueuo\">1,050,138,400</td> </tr>\n"
     ]
    }
   ],
   "source": [
    "for i in rows[1:]:\n",
    "    print(i)"
   ]
  },
  {
   "cell_type": "code",
   "execution_count": 27,
   "id": "f9e51572",
   "metadata": {},
   "outputs": [
    {
     "name": "stdout",
     "output_type": "stream",
     "text": [
      "May 22, 2024 9,475.00 9,575.00 9,325.00 9,425.00 9,425.00 121,712,700 \n",
      "May 1, 2024 9,900.00 9,900.00 9,200.00 9,425.00 9,425.00 1,152,375,700 \n",
      "Apr 1, 2024 10,075.00 10,100.00 9,250.00 9,800.00 9,800.00 1,979,724,400 \n",
      "Mar 25, 2024 227.50 Dividend  \n",
      "Mar 1, 2024 9,900.00 10,400.00 9,750.00 10,075.00 9,848.06 1,470,759,300 \n",
      "Feb 1, 2024 9,650.00 10,025.00 9,525.00 9,875.00 9,652.57 1,483,790,400 \n",
      "Jan 1, 2024 9,400.00 9,775.00 9,300.00 9,550.00 9,334.89 1,474,778,300 \n",
      "Dec 4, 2023 42.50 Dividend  \n",
      "Dec 1, 2023 8,925.00 9,450.00 8,675.00 9,400.00 9,144.64 1,671,827,300 \n",
      "Nov 1, 2023 8,750.00 9,075.00 8,600.00 8,975.00 8,731.18 1,367,708,700 \n",
      "Oct 1, 2023 8,900.00 9,250.00 8,700.00 8,750.00 8,512.29 1,473,758,400 \n",
      "Sep 1, 2023 9,200.00 9,275.00 8,825.00 8,825.00 8,585.26 1,277,052,400 \n",
      "Aug 1, 2023 9,175.00 9,450.00 9,100.00 9,175.00 8,925.75 1,406,160,600 \n",
      "Jul 1, 2023 9,025.00 9,400.00 9,025.00 9,125.00 8,877.11 1,307,303,300 \n",
      "Jun 1, 2023 9,050.00 9,325.00 8,950.00 9,150.00 8,901.43 1,050,138,400 \n"
     ]
    }
   ],
   "source": [
    "for i in rows[1:]:\n",
    "    print(i.text)"
   ]
  },
  {
   "cell_type": "code",
   "execution_count": 28,
   "id": "8be4f28c",
   "metadata": {},
   "outputs": [
    {
     "name": "stdout",
     "output_type": "stream",
     "text": [
      "[<td class=\"svelte-ewueuo\">May 22, 2024</td>, <td class=\"svelte-ewueuo\">9,475.00</td>, <td class=\"svelte-ewueuo\">9,575.00</td>, <td class=\"svelte-ewueuo\">9,325.00</td>, <td class=\"svelte-ewueuo\">9,425.00</td>, <td class=\"svelte-ewueuo\">9,425.00</td>, <td class=\"svelte-ewueuo\">121,712,700</td>]\n",
      "[<td class=\"svelte-ewueuo\">May 1, 2024</td>, <td class=\"svelte-ewueuo\">9,900.00</td>, <td class=\"svelte-ewueuo\">9,900.00</td>, <td class=\"svelte-ewueuo\">9,200.00</td>, <td class=\"svelte-ewueuo\">9,425.00</td>, <td class=\"svelte-ewueuo\">9,425.00</td>, <td class=\"svelte-ewueuo\">1,152,375,700</td>]\n",
      "[<td class=\"svelte-ewueuo\">Apr 1, 2024</td>, <td class=\"svelte-ewueuo\">10,075.00</td>, <td class=\"svelte-ewueuo\">10,100.00</td>, <td class=\"svelte-ewueuo\">9,250.00</td>, <td class=\"svelte-ewueuo\">9,800.00</td>, <td class=\"svelte-ewueuo\">9,800.00</td>, <td class=\"svelte-ewueuo\">1,979,724,400</td>]\n",
      "[<td class=\"svelte-ewueuo\">Mar 25, 2024</td>, <td class=\"event svelte-ewueuo\" colspan=\"6\"><span class=\"svelte-ewueuo\">227.50</span> Dividend </td>]\n",
      "[<td class=\"svelte-ewueuo\">Mar 1, 2024</td>, <td class=\"svelte-ewueuo\">9,900.00</td>, <td class=\"svelte-ewueuo\">10,400.00</td>, <td class=\"svelte-ewueuo\">9,750.00</td>, <td class=\"svelte-ewueuo\">10,075.00</td>, <td class=\"svelte-ewueuo\">9,848.06</td>, <td class=\"svelte-ewueuo\">1,470,759,300</td>]\n",
      "[<td class=\"svelte-ewueuo\">Feb 1, 2024</td>, <td class=\"svelte-ewueuo\">9,650.00</td>, <td class=\"svelte-ewueuo\">10,025.00</td>, <td class=\"svelte-ewueuo\">9,525.00</td>, <td class=\"svelte-ewueuo\">9,875.00</td>, <td class=\"svelte-ewueuo\">9,652.57</td>, <td class=\"svelte-ewueuo\">1,483,790,400</td>]\n",
      "[<td class=\"svelte-ewueuo\">Jan 1, 2024</td>, <td class=\"svelte-ewueuo\">9,400.00</td>, <td class=\"svelte-ewueuo\">9,775.00</td>, <td class=\"svelte-ewueuo\">9,300.00</td>, <td class=\"svelte-ewueuo\">9,550.00</td>, <td class=\"svelte-ewueuo\">9,334.89</td>, <td class=\"svelte-ewueuo\">1,474,778,300</td>]\n",
      "[<td class=\"svelte-ewueuo\">Dec 4, 2023</td>, <td class=\"event svelte-ewueuo\" colspan=\"6\"><span class=\"svelte-ewueuo\">42.50</span> Dividend </td>]\n",
      "[<td class=\"svelte-ewueuo\">Dec 1, 2023</td>, <td class=\"svelte-ewueuo\">8,925.00</td>, <td class=\"svelte-ewueuo\">9,450.00</td>, <td class=\"svelte-ewueuo\">8,675.00</td>, <td class=\"svelte-ewueuo\">9,400.00</td>, <td class=\"svelte-ewueuo\">9,144.64</td>, <td class=\"svelte-ewueuo\">1,671,827,300</td>]\n",
      "[<td class=\"svelte-ewueuo\">Nov 1, 2023</td>, <td class=\"svelte-ewueuo\">8,750.00</td>, <td class=\"svelte-ewueuo\">9,075.00</td>, <td class=\"svelte-ewueuo\">8,600.00</td>, <td class=\"svelte-ewueuo\">8,975.00</td>, <td class=\"svelte-ewueuo\">8,731.18</td>, <td class=\"svelte-ewueuo\">1,367,708,700</td>]\n",
      "[<td class=\"svelte-ewueuo\">Oct 1, 2023</td>, <td class=\"svelte-ewueuo\">8,900.00</td>, <td class=\"svelte-ewueuo\">9,250.00</td>, <td class=\"svelte-ewueuo\">8,700.00</td>, <td class=\"svelte-ewueuo\">8,750.00</td>, <td class=\"svelte-ewueuo\">8,512.29</td>, <td class=\"svelte-ewueuo\">1,473,758,400</td>]\n",
      "[<td class=\"svelte-ewueuo\">Sep 1, 2023</td>, <td class=\"svelte-ewueuo\">9,200.00</td>, <td class=\"svelte-ewueuo\">9,275.00</td>, <td class=\"svelte-ewueuo\">8,825.00</td>, <td class=\"svelte-ewueuo\">8,825.00</td>, <td class=\"svelte-ewueuo\">8,585.26</td>, <td class=\"svelte-ewueuo\">1,277,052,400</td>]\n",
      "[<td class=\"svelte-ewueuo\">Aug 1, 2023</td>, <td class=\"svelte-ewueuo\">9,175.00</td>, <td class=\"svelte-ewueuo\">9,450.00</td>, <td class=\"svelte-ewueuo\">9,100.00</td>, <td class=\"svelte-ewueuo\">9,175.00</td>, <td class=\"svelte-ewueuo\">8,925.75</td>, <td class=\"svelte-ewueuo\">1,406,160,600</td>]\n",
      "[<td class=\"svelte-ewueuo\">Jul 1, 2023</td>, <td class=\"svelte-ewueuo\">9,025.00</td>, <td class=\"svelte-ewueuo\">9,400.00</td>, <td class=\"svelte-ewueuo\">9,025.00</td>, <td class=\"svelte-ewueuo\">9,125.00</td>, <td class=\"svelte-ewueuo\">8,877.11</td>, <td class=\"svelte-ewueuo\">1,307,303,300</td>]\n",
      "[<td class=\"svelte-ewueuo\">Jun 1, 2023</td>, <td class=\"svelte-ewueuo\">9,050.00</td>, <td class=\"svelte-ewueuo\">9,325.00</td>, <td class=\"svelte-ewueuo\">8,950.00</td>, <td class=\"svelte-ewueuo\">9,150.00</td>, <td class=\"svelte-ewueuo\">8,901.43</td>, <td class=\"svelte-ewueuo\">1,050,138,400</td>]\n"
     ]
    }
   ],
   "source": [
    "for i in rows[1:]:\n",
    "    data = i.find_all(\"td\")\n",
    "    print(data)"
   ]
  },
  {
   "cell_type": "code",
   "execution_count": 29,
   "id": "f9ad745b",
   "metadata": {},
   "outputs": [
    {
     "name": "stdout",
     "output_type": "stream",
     "text": [
      "['Jun 1, 2023', '9,050.00', '9,325.00', '8,950.00', '9,150.00', '8,901.43', '1,050,138,400']\n"
     ]
    }
   ],
   "source": [
    "row = [tr.text for tr in data]\n",
    "print(row)"
   ]
  },
  {
   "cell_type": "code",
   "execution_count": 30,
   "id": "14006273",
   "metadata": {},
   "outputs": [
    {
     "name": "stdout",
     "output_type": "stream",
     "text": [
      "[['May 22, 2024', '9,475.00', '9,575.00', '9,325.00', '9,425.00', '9,425.00', '121,712,700'], ['May 1, 2024', '9,900.00', '9,900.00', '9,200.00', '9,425.00', '9,425.00', '1,152,375,700'], ['Apr 1, 2024', '10,075.00', '10,100.00', '9,250.00', '9,800.00', '9,800.00', '1,979,724,400'], ['Mar 25, 2024', '227.50 Dividend'], ['Mar 1, 2024', '9,900.00', '10,400.00', '9,750.00', '10,075.00', '9,848.06', '1,470,759,300'], ['Feb 1, 2024', '9,650.00', '10,025.00', '9,525.00', '9,875.00', '9,652.57', '1,483,790,400'], ['Jan 1, 2024', '9,400.00', '9,775.00', '9,300.00', '9,550.00', '9,334.89', '1,474,778,300'], ['Dec 4, 2023', '42.50 Dividend'], ['Dec 1, 2023', '8,925.00', '9,450.00', '8,675.00', '9,400.00', '9,144.64', '1,671,827,300'], ['Nov 1, 2023', '8,750.00', '9,075.00', '8,600.00', '8,975.00', '8,731.18', '1,367,708,700'], ['Oct 1, 2023', '8,900.00', '9,250.00', '8,700.00', '8,750.00', '8,512.29', '1,473,758,400'], ['Sep 1, 2023', '9,200.00', '9,275.00', '8,825.00', '8,825.00', '8,585.26', '1,277,052,400'], ['Aug 1, 2023', '9,175.00', '9,450.00', '9,100.00', '9,175.00', '8,925.75', '1,406,160,600'], ['Jul 1, 2023', '9,025.00', '9,400.00', '9,025.00', '9,125.00', '8,877.11', '1,307,303,300'], ['Jun 1, 2023', '9,050.00', '9,325.00', '8,950.00', '9,150.00', '8,901.43', '1,050,138,400']]\n"
     ]
    }
   ],
   "source": [
    "data_list = []\n",
    "\n",
    "for row in rows[1:]:\n",
    "    data = row.find_all(\"td\")\n",
    "    row_data = [item.text.strip() for item in data]\n",
    "    data_list.append(row_data)\n",
    "\n",
    "print(data_list)\n"
   ]
  },
  {
   "cell_type": "code",
   "execution_count": 32,
   "id": "08435fcc",
   "metadata": {},
   "outputs": [],
   "source": [
    "# Header kolom\n",
    "header = ['Date', 'Open', 'High', 'Low', 'Close', 'Adj Close', 'Volume']"
   ]
  },
  {
   "cell_type": "code",
   "execution_count": null,
   "id": "48870da2",
   "metadata": {},
   "outputs": [],
   "source": [
    "# Nama file CSV\n",
    "BBCA = 'bca_stockprice_May2023-Apr2024.csv'\n",
    "\n",
    "# Tulis ke file CSV\n",
    "with open(BBCA, 'w', newline='') as csvfile:\n",
    "    writer = csv.writer(csvfile)\n",
    "    writer.writerow(header)  \n",
    "    writer.writerows(data_list) "
   ]
  }
 ],
 "metadata": {
  "kernelspec": {
   "display_name": "Python 3 (ipykernel)",
   "language": "python",
   "name": "python3"
  },
  "language_info": {
   "codemirror_mode": {
    "name": "ipython",
    "version": 3
   },
   "file_extension": ".py",
   "mimetype": "text/x-python",
   "name": "python",
   "nbconvert_exporter": "python",
   "pygments_lexer": "ipython3",
   "version": "3.10.9"
  }
 },
 "nbformat": 4,
 "nbformat_minor": 5
}
